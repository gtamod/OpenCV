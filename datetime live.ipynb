{
 "cells": [
  {
   "cell_type": "code",
   "execution_count": 1,
   "metadata": {},
   "outputs": [],
   "source": [
    "# Import libraries \n",
    "import numpy \n",
    "import cv2 \n",
    "import datetime \n",
    "\n",
    "# open the video \n",
    "cap = cv2.VideoCapture(0) \n",
    "# Process untill end. \n",
    "while(cap.isOpened()): \n",
    "    ret, frame = cap.read() \n",
    "    if ret: \n",
    "        # describe the type of \n",
    "        # font you want to display \n",
    "        font = cv2.FONT_HERSHEY_SIMPLEX \n",
    "        # Get date and time and \n",
    "        # save it inside a variable \n",
    "        dt = str(datetime.datetime.now()) \n",
    "        # put the dt variable over the \n",
    "        # video frame \n",
    "        frame = cv2.putText(frame, dt, \n",
    "                            (10, 100), \n",
    "                            font, 1, \n",
    "                            (0, 255, 0), \n",
    "                            4, cv2.LINE_8) \n",
    "        # show the video \n",
    "        cv2.imshow('frame', frame) \n",
    "        if cv2.waitKey(1)==13:\n",
    "            break\n",
    "# release the vid object \n",
    "cap.release() \n",
    "# close all the opened windows. \n",
    "cv2.destroyAllWindows() \n"
   ]
  },
  {
   "cell_type": "code",
   "execution_count": null,
   "metadata": {},
   "outputs": [],
   "source": []
  }
 ],
 "metadata": {
  "kernelspec": {
   "display_name": "Python 3",
   "language": "python",
   "name": "python3"
  },
  "language_info": {
   "codemirror_mode": {
    "name": "ipython",
    "version": 3
   },
   "file_extension": ".py",
   "mimetype": "text/x-python",
   "name": "python",
   "nbconvert_exporter": "python",
   "pygments_lexer": "ipython3",
   "version": "3.7.6"
  }
 },
 "nbformat": 4,
 "nbformat_minor": 4
}
