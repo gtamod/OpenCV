{
 "cells": [
  {
   "cell_type": "code",
   "execution_count": 1,
   "metadata": {},
   "outputs": [],
   "source": [
    "import cv2\n",
    "img=cv2.imread(r'C:\\Users\\DELL\\Documents\\opencv-master\\samples\\data\\lena.jpg',0)# 0 for grayscale image.\n",
    "cv2.imshow('image',img)\n",
    "cv2.waitKey()\n",
    "cv2.destroyAllWindows()\n"
   ]
  },
  {
   "cell_type": "code",
   "execution_count": 2,
   "metadata": {},
   "outputs": [
    {
     "name": "stdout",
     "output_type": "stream",
     "text": [
      "[[163 162 161 ... 170 154 130]\n",
      " [162 162 162 ... 173 155 126]\n",
      " [162 162 163 ... 170 155 128]\n",
      " ...\n",
      " [ 43  42  51 ... 103 101  99]\n",
      " [ 41  42  55 ... 103 105 106]\n",
      " [ 42  44  57 ... 102 106 109]]\n"
     ]
    }
   ],
   "source": [
    "import cv2\n",
    "img=cv2.imread(r'C:\\Users\\DELL\\Documents\\opencv-master\\samples\\data\\lena.jpg',0)# 0 for grayscale image.\n",
    "print(img)\n",
    "cv2.imshow('image',img)\n",
    "cv2.imwrite(r'C:\\Users\\DELL\\Documents\\opencv-master\\copyimg.jpg',img)\n",
    "cv2.waitKey()\n",
    "cv2.destroyAllWindows()"
   ]
  },
  {
   "cell_type": "code",
   "execution_count": 3,
   "metadata": {},
   "outputs": [
    {
     "name": "stdout",
     "output_type": "stream",
     "text": [
      "(512, 512, 3)\n",
      "height of pixels 512\n",
      "width of pixels 512\n"
     ]
    }
   ],
   "source": [
    "import cv2\n",
    "img=cv2.imread(r'C:\\Users\\DELL\\Documents\\opencv-master\\samples\\data\\lena.jpg')\n",
    "cv2.imshow('image',img)\n",
    "print(img.shape)\n",
    "print(\"height of pixels\",img.shape[0])\n",
    "print(\"width of pixels\",img.shape[1])\n",
    "cv2.waitKey()\n",
    "cv2.destroyAllWindows() \n"
   ]
  },
  {
   "cell_type": "code",
   "execution_count": 4,
   "metadata": {},
   "outputs": [],
   "source": [
    "import cv2\n",
    "img=cv2.imread(r'C:\\Users\\DELL\\Documents\\opencv-master\\samples\\data\\lena.jpg')\n",
    "cv2.imshow('image',img)\n",
    "gray_img=cv2.cvtColor(img,cv2.COLOR_BGR2GRAY)\n",
    "cv2.imshow(\"gray scale image\",gray_img)\n",
    "cv2.waitKey()\n",
    "cv2.destroyAllWindows() "
   ]
  },
  {
   "cell_type": "code",
   "execution_count": 5,
   "metadata": {},
   "outputs": [],
   "source": [
    "#RGB all contains 0-255\n",
    "import cv2\n",
    "img=cv2.imread(r'C:\\Users\\DELL\\Documents\\opencv-master\\samples\\data\\lena.jpg',0)\n",
    "cv2.imshow('image',img)\n",
    "ret,bw=cv2.threshold(img,127,255,cv2.THRESH_BINARY)#threshold returns a tuple so we need ret to store it.\n",
    "cv2.imshow(\"binary\",bw)#src,threshold,maxval,type above.\n",
    "cv2.waitKey()\n",
    "cv2.destroyAllWindows()"
   ]
  },
  {
   "cell_type": "code",
   "execution_count": 6,
   "metadata": {},
   "outputs": [],
   "source": [
    "#hue 0-18 saturation 0-255 value 0-255\n",
    "import cv2\n",
    "img=cv2.imread(r'C:\\Users\\DELL\\Documents\\opencv-master\\samples\\data\\lena.jpg')\n",
    "img_HSV=cv2.cvtColor(img,cv2.COLOR_BGR2HSV)\n",
    "cv2.imshow(\"HSV image\",img_HSV)\n",
    "cv2.imshow(\"H\",img_HSV[:,:,0])\n",
    "cv2.imshow(\"S\",img_HSV[:,:,1])\n",
    "cv2.imshow(\"V\",img_HSV[:,:,2])\n",
    "cv2.waitKey()\n",
    "cv2.destroyAllWindows() "
   ]
  },
  {
   "cell_type": "code",
   "execution_count": 7,
   "metadata": {},
   "outputs": [],
   "source": [
    "import cv2\n",
    "import numpy as np\n",
    "img=cv2.imread(r'C:\\Users\\DELL\\Documents\\opencv-master\\samples\\data\\lena.jpg')\n",
    "cv2.imshow(\"original\",img)\n",
    "cv2.waitKey()\n",
    "B,G,R=cv2.split(img)\n",
    "zeros=np.zeros(img.shape[:2],dtype=\"uint8\")\n",
    "cv2.imshow(\"RED\",cv2.merge([zeros,zeros,R]))\n",
    "cv2.waitKey()\n",
    "cv2.imshow(\"GREEN\",cv2.merge([zeros,G,zeros]))\n",
    "cv2.waitKey()\n",
    "cv2.imshow(\"BLUE\",cv2.merge([B,zeros,zeros]))\n",
    "cv2.waitKey()\n",
    "cv2.destroyAllWindows() "
   ]
  },
  {
   "cell_type": "code",
   "execution_count": 11,
   "metadata": {},
   "outputs": [
    {
     "name": "stdout",
     "output_type": "stream",
     "text": [
      "512\n",
      "512\n",
      "128.0\n",
      "128.0\n",
      "[[  1.   0. 128.]\n",
      " [  0.   1. 128.]]\n"
     ]
    }
   ],
   "source": [
    "import cv2\n",
    "import numpy as np\n",
    "img=cv2.imread(r'C:\\Users\\DELL\\Documents\\opencv-master\\samples\\data\\lena.jpg')\n",
    "height,width=img.shape[:2]\n",
    "print(height)\n",
    "print(width)\n",
    "q_height,q_width=height/4,width/4\n",
    "print(q_height)\n",
    "print(q_width)\n",
    "T=np.float32([[1,0,q_width],\n",
    "              [0,1,q_height]])\n",
    "print(T)\n",
    "img_translation=cv2.warpAffine(img,T,(width,height))\n",
    "cv2.imshow(\"original\",img)\n",
    "cv2.imshow(\"translation\",img_translation)\n",
    "cv2.waitKey()\n",
    "cv2.destroyAllWindows() "
   ]
  },
  {
   "cell_type": "code",
   "execution_count": 14,
   "metadata": {},
   "outputs": [],
   "source": [
    "import cv2\n",
    "import numpy as np\n",
    "img=cv2.imread(r'C:\\Users\\DELL\\Documents\\opencv-master\\samples\\data\\lena.jpg')\n",
    "height,width=img.shape[:2]\n",
    "rotation_matrix=cv2.getRotationMatrix2D((width/2,height/2),120,.5) #degreeof rotation,scaling\n",
    "rotated_img=cv2.warpAffine(img,rotation_matrix,(width,height))\n",
    "cv2.imshow(\"original\",img)\n",
    "cv2.imshow(\"rotated\",rotated_img)\n",
    "cv2.waitKey()\n",
    "cv2.destroyAllWindows() "
   ]
  },
  {
   "cell_type": "code",
   "execution_count": 15,
   "metadata": {},
   "outputs": [],
   "source": [
    "import cv2\n",
    "import numpy as np\n",
    "img=cv2.imread(r'C:\\Users\\DELL\\Documents\\opencv-master\\samples\\data\\lena.jpg')\n",
    "rotated_img=cv2.transpose(img)\n",
    "cv2.imshow(\"rotated image\",rotated_img)\n",
    "cv2.imshow(\"original\",img)\n",
    "cv2.waitKey()\n",
    "cv2.destroyAllWindows() "
   ]
  },
  {
   "cell_type": "code",
   "execution_count": null,
   "metadata": {},
   "outputs": [],
   "source": [
    "import cv2\n",
    "import numpy as np\n",
    "img=cv2.imread(r'C:\\Users\\DELL\\Documents\\opencv-master\\samples\\data\\lena.jpg')\n",
    "cv2.imshow(\"original\",img)\n",
    "cv2.waitKey()\n",
    "img_scaled=cv2.resize(img,None,fx=0.75,fy=0.75)\n",
    "cv2.imshow(\"scaling linear interplotation\",img_scaled)\n",
    "cv2.waitKey()\n",
    "img_scaled1=cv2.resize(img,None,fx=2,fy=2,interpolation=cv2.INTER_CUBIC)\n",
    "cv2.imshow(\"scaling cubic interplotation\",img_scaled1)\n",
    "cv2.waitKey()\n",
    "img_scaled2=cv2.resize(img,(900,400),interpolation=cv2.INTER_AREA)\n",
    "cv2.imshow(\"scaling skewed size\",img_scaled2)\n",
    "cv2.waitKey()\n",
    "cv2.destroyAllWindows()"
   ]
  },
  {
   "cell_type": "code",
   "execution_count": 1,
   "metadata": {},
   "outputs": [],
   "source": [
    "import cv2\n",
    "import numpy as np\n",
    "img=cv2.imread(r'C:\\Users\\DELL\\Documents\\opencv-master\\samples\\data\\lena.jpg')\n",
    "smaller=cv2.pyrDown(img)\n",
    "larger=cv2.pyrUp(img)\n",
    "cv2.imshow(\"larger\",larger)\n",
    "cv2.waitKey()\n",
    "cv2.imshow(\"original\",img)\n",
    "cv2.waitKey()\n",
    "cv2.imshow(\"smaller\",smaller)\n",
    "cv2.waitKey()\n",
    "cv2.destroyAllWindows() "
   ]
  },
  {
   "cell_type": "code",
   "execution_count": 2,
   "metadata": {},
   "outputs": [],
   "source": [
    "import cv2\n",
    "import numpy as np\n",
    "img=cv2.imread(r'C:\\Users\\DELL\\Documents\\opencv-master\\samples\\data\\lena.jpg')\n",
    "height,width=img.shape[:2]\n",
    "start_row,start_column=int(height*.25),int(width*.25)\n",
    "end_row,end_column=int(height*.75),int(width*.75)\n",
    "cropped=img[start_row:end_row,start_column:end_column]\n",
    "cv2.imshow(\"original\",img)\n",
    "cv2.waitKey()\n",
    "cv2.imshow(\"cropped\",cropped)\n",
    "cv2.waitKey()\n",
    "cv2.destroyAllWindows() "
   ]
  },
  {
   "cell_type": "code",
   "execution_count": 3,
   "metadata": {},
   "outputs": [],
   "source": [
    "#Image Arithmetic\n",
    "import cv2\n",
    "import numpy as np\n",
    "img=cv2.imread(r'C:\\Users\\DELL\\Documents\\opencv-master\\samples\\data\\lena.jpg')\n",
    "cv2.imshow('Original', img)\n",
    "cv2.waitKey()\n",
    "M = np.ones(img.shape, dtype=\"uint8\") * 150\n",
    "added = cv2.add(img, M)\n",
    "cv2.imshow('Added', added)\n",
    "cv2.waitKey()\n",
    "subtracted = cv2.subtract(img, M)\n",
    "cv2.imshow('Subtract', subtracted)\n",
    "cv2.waitKey()\n",
    "mul = cv2.multiply(img,M)\n",
    "cv2.imshow('MUl',mul)\n",
    "cv2.waitKey()\n",
    "cv2.destroyAllWindows()"
   ]
  },
  {
   "cell_type": "code",
   "execution_count": 4,
   "metadata": {},
   "outputs": [],
   "source": [
    "#Bitwise Operation\n",
    "import cv2\n",
    "import numpy as np\n",
    "square = np.zeros((300,300), np.uint8)\n",
    "cv2.rectangle(square, (50,50), (250,250), 255, -1)#src start end color thickness\n",
    "cv2.imshow(\"Square\", square)\n",
    "cv2.waitKey()\n",
    "\n",
    "#making as eclipse\n",
    "ellipse = np.zeros((300,300), np.uint8)\n",
    "cv2.ellipse(ellipse, (150,150), (150,150), 30, 0, 180, 255, -1)\n",
    "cv2.imshow(\"Ellipse\", ellipse)\n",
    "cv2.waitKey()\n",
    "\n",
    "#operations\n",
    "And = cv2.bitwise_and(square, ellipse)\n",
    "cv2.imshow(\"AND\", And)\n",
    "cv2.waitKey()\n",
    "Or = cv2.bitwise_or(square, ellipse)\n",
    "cv2.imshow(\"OR\", Or)\n",
    "cv2.waitKey()\n",
    "Xor = cv2.bitwise_xor(square, ellipse)\n",
    "cv2.imshow(\"XOR\", Xor)\n",
    "cv2.waitKey()\n",
    "Not = cv2.bitwise_not(square)\n",
    "cv2.imshow(\"NOT\", Not)\n",
    "cv2.waitKey()\n",
    "cv2.destroyAllWindows()"
   ]
  },
  {
   "cell_type": "code",
   "execution_count": 5,
   "metadata": {},
   "outputs": [],
   "source": [
    "#Blurring\n",
    "import cv2\n",
    "import numpy as np\n",
    "img=cv2.imread(r'C:\\Users\\DELL\\Documents\\opencv-master\\samples\\data\\lena.jpg')\n",
    "cv2.imshow('Original Image',img)\n",
    "cv2.waitKey()\n",
    "#Creating 3x3 Kernel\n",
    "kernel_3x3 = np.ones((3,3), np.float32)/9\n",
    "#We use the cv2.filter2D to convolve the kernel with an image\n",
    "blurred = cv2.filter2D(img, -1, kernel_3x3)\n",
    "cv2.imshow('3x3 Kernel Blurring', blurred)\n",
    "cv2.waitKey()\n",
    "#Creating 7x7 Kernel\n",
    "kernel_7x7 = np.ones((7,7), np.float32)/49\n",
    "blurred1 = cv2.filter2D(img, -1, kernel_7x7)\n",
    "cv2.imshow('7x7 Kernel Blurring', blurred1)\n",
    "cv2.waitKey()\n",
    "cv2.destroyAllWindows()"
   ]
  },
  {
   "cell_type": "code",
   "execution_count": 6,
   "metadata": {},
   "outputs": [],
   "source": [
    "# image Blurring\n",
    "import cv2\n",
    "import numpy as np\n",
    "img=cv2.imread(r'C:\\Users\\DELL\\Documents\\opencv-master\\samples\\data\\lena.jpg')\n",
    "cv2.imshow('Original Image',img)\n",
    "cv2.waitKey()\n",
    "#Averaging done by convolving the image with a normalize box filter\n",
    "#This takes the pixels under the box and replace the central element\n",
    "#Box size needs to odd and positive\n",
    "blur = cv2.blur(img, (3,3))\n",
    "cv2.imshow('Blur Image',blur)\n",
    "cv2.waitKey()\n",
    "#Insted of using Box filter use gaussinan kernel\n",
    "Gaussian = cv2.GaussianBlur(img, (7,7), 0)\n",
    "cv2.imshow('Gaussian Blur Image',Gaussian)\n",
    "cv2.waitKey()\n",
    "#Take median of all the pixels under kernel area and central\n",
    "#element is replaced with this median value\n",
    "median = cv2.medianBlur(img, 5)\n",
    "cv2.imshow('Median Blur Image',median)\n",
    "cv2.waitKey()\n",
    "#Bilateral is very effective in nose removal\n",
    "bilateral = cv2.bilateralFilter(img, 9, 75, 75)\n",
    "cv2.imshow('Bilateral Blur Image',bilateral)\n",
    "cv2.waitKey()\n",
    "cv2.destroyAllWindows()"
   ]
  },
  {
   "cell_type": "code",
   "execution_count": 9,
   "metadata": {},
   "outputs": [],
   "source": [
    "#Edge Detection\n",
    "import cv2\n",
    "import numpy as np\n",
    "img=cv2.imread(r'C:\\Users\\DELL\\Documents\\opencv-master\\samples\\data\\lena.jpg',0)\n",
    "height,width = img.shape[:2]\n",
    "#Extract slop edges\n",
    "sobel_x = cv2.Sobel(img, cv2.CV_64F, 1, 0, ksize=5)\n",
    "sobel_y = cv2.Sobel(img, cv2.CV_64F, 0, 1, ksize=5)\n",
    "cv2.imshow('Original Image',img)\n",
    "cv2.waitKey()\n",
    "cv2.imshow('Sobel X Image',sobel_x)\n",
    "cv2.waitKey()\n",
    "cv2.imshow('Sobel Y Image',sobel_y)\n",
    "cv2.waitKey()\n",
    "sobel_Or = cv2.bitwise_or(sobel_x,sobel_y)\n",
    "cv2.imshow('Sobel or Image',sobel_Or)\n",
    "cv2.waitKey()\n",
    "laplacian = cv2.Laplacian(img, cv2.CV_64F)\n",
    "cv2.imshow('Laplacian Image',laplacian)\n",
    "cv2.waitKey()\n",
    "#Canny Edge detection uses gradiant values as thresholds\n",
    "canny = cv2.Canny(img, 20, 170)\n",
    "cv2.imshow('Canny Edge', canny)\n",
    "cv2.waitKey()\n",
    "cv2.destroyAllWindows()"
   ]
  },
  {
   "cell_type": "code",
   "execution_count": 2,
   "metadata": {},
   "outputs": [],
   "source": [
    "import cv2\n",
    "cap = cv2.VideoCapture(0)\n",
    "while True:\n",
    "    ret, frame = cap.read()#frame returns a value it is stored in ret\n",
    "    cv2.imshow('Our Live Sketch', frame)\n",
    "    if cv2.waitKey(1)==13:\n",
    "        break\n",
    "cap.release()\n",
    "cv2.destroyAllWindows()"
   ]
  },
  {
   "cell_type": "code",
   "execution_count": 1,
   "metadata": {},
   "outputs": [
    {
     "data": {
      "image/png": "[encoded data removed]",
      "text/plain": [
       "<Figure size 432x288 with 1 Axes>"
      ]
     },
     "metadata": {},
     "output_type": "display_data"
    }
   ],
   "source": [
    "import cv2\n",
    "import matplotlib.pyplot as plt\n",
    "cap = cv2.VideoCapture(0)\n",
    "if cap.isOpened():\n",
    "    ret, frame = cap.read()\n",
    "    #print(ret)\n",
    "    #print(frame)\n",
    "else:\n",
    "    ret = False\n",
    "img1 = cv2.cvtColor(frame, cv2.COLOR_BGR2RGB)\n",
    "plt.imshow(img1)\n",
    "plt.title('Image Camera-1')\n",
    "plt.xticks([])\n",
    "plt.yticks([])\n",
    "plt.show()\n",
    "cap.release()\n",
    "cv2.destroyAllWindows()"
   ]
  },
  {
   "cell_type": "code",
   "execution_count": 1,
   "metadata": {},
   "outputs": [],
   "source": [
    "import cv2\n",
    "import numpy as np\n",
    "def sketch(image):\n",
    "    #Convert image to grayscale\n",
    "    img_gray = cv2.cvtColor(image, cv2.COLOR_BGR2GRAY)\n",
    "    #Cleanup image using gaussian blur\n",
    "    img_gray_blur = cv2.GaussianBlur(img_gray,(5,5),0)\n",
    "    #Extract Edges\n",
    "    canny_edges = cv2.Canny(img_gray_blur, 10, 70)\n",
    "    #Do an invert binarize the image\n",
    "    ret, mask = cv2.threshold(canny_edges,70,255,cv2.THRESH_BINARY)\n",
    "    return mask\n",
    "cap = cv2.VideoCapture(0)\n",
    "while True:\n",
    "    ret, frame = cap.read()\n",
    "    cv2.imshow('Our Live Sketch', sketch(frame))\n",
    "    if cv2.waitKey(1)==13:\n",
    "        break\n",
    "cap.release()\n",
    "cv2.destroyAllWindows()"
   ]
  },
  {
   "cell_type": "code",
   "execution_count": 1,
   "metadata": {},
   "outputs": [],
   "source": [
    "import cv2\n",
    "import numpy as np\n",
    "device=cv2.VideoCapture(0)\n",
    "while True:\n",
    "    ret, frame = device.read()\n",
    "    hsv = cv2.cvtColor(frame,cv2.COLOR_BGR2HSV)\n",
    "    lower_range = np.array([110,50,50])\n",
    "    upper_range = np.array([130,255,255])\n",
    "    mask  =cv2.inRange(hsv, lower_range, upper_range)\n",
    "    cv2.imshow(\"show\",mask)\n",
    "    cv2.imshow(\"show1\", frame)\n",
    "    if cv2.waitKey(1) == 13:\n",
    "        break\n",
    "device.release()\n",
    "cv2.destroyAllWindows()"
   ]
  },
  {
   "cell_type": "code",
   "execution_count": 1,
   "metadata": {},
   "outputs": [],
   "source": [
    "import cv2\n",
    "import numpy as np\n",
    "device  =cv2.VideoCapture(0)\n",
    "while True:\n",
    "    ret, frame = device.read()\n",
    "    hsv = cv2.cvtColor(frame,cv2.COLOR_BGR2HSV)\n",
    "    lower_range_blue = np.array([110,50,50])\n",
    "    upper_range_blue = np.array([130,255,255])\n",
    "    mask1  =cv2.inRange(hsv, lower_range_blue, upper_range_blue)\n",
    "    lower_range_red = np.array([150, 70, 30])\n",
    "    upper_range_red = np.array([180, 255, 150])\n",
    "    mask2 = cv2.inRange(hsv, lower_range_blue, upper_range_red)\n",
    "    cv2.imshow(\"show\",frame)\n",
    "    result1 = cv2.bitwise_and(frame,frame,mask=mask1)\n",
    "    result2 = cv2.bitwise_and(frame, frame, mask=mask2)\n",
    "    cv2.imshow(\"show2\", result1)\n",
    "    cv2.imshow(\"show3\", result2)\n",
    "    if cv2.waitKey(1) == 13:\n",
    "        break\n",
    "device.release()\n",
    "cv2.destroyAllWindows()"
   ]
  },
  {
   "cell_type": "code",
   "execution_count": null,
   "metadata": {},
   "outputs": [],
   "source": [
    "import cv2\n",
    "import numpy as np\n",
    "\n",
    "def nothing(x):\n",
    "    pass\n",
    "\n",
    "# Create a black image, a window\n",
    "img = np.zeros((300,512,3), np.uint8)\n",
    "cv2.namedWindow('image')\n",
    "\n",
    "# create trackbars for color change\n",
    "cv2.createTrackbar('R','image',0,255,nothing)\n",
    "cv2.createTrackbar('G','image',0,255,nothing)\n",
    "cv2.createTrackbar('B','image',0,255,nothing)\n",
    "\n",
    "# create switch for ON/OFF functionality\n",
    "switch = '0 : OFF \\n1 : ON'\n",
    "cv2.createTrackbar(switch, 'image',0,1,nothing)\n",
    "\n",
    "while(1):\n",
    "    cv2.imshow('image',img)\n",
    "    k = cv2.waitKey(1) & 0xFF\n",
    "    if k == 27:\n",
    "        break\n",
    "\n",
    "    # get current positions of four trackbars\n",
    "    r = cv2.getTrackbarPos('R','image')\n",
    "    g = cv2.getTrackbarPos('G','image')\n",
    "    b = cv2.getTrackbarPos('B','image')\n",
    "    s = cv2.getTrackbarPos(switch,'image')\n",
    "\n",
    "    if s == 0:\n",
    "        img[:] = 0\n",
    "    else:\n",
    "        img[:] = [b,g,r]\n",
    "\n",
    "cv2.destroyAllWindows()"
   ]
  },
  {
   "cell_type": "code",
   "execution_count": 1,
   "metadata": {},
   "outputs": [],
   "source": [
    "import cv2\n",
    "import numpy as np\n",
    "img=cv2.imread(r'C:\\Users\\DELL\\Documents\\opencv-master\\samples\\data\\lena.jpg')\n",
    "cv2.imshow(\"original\",img)\n",
    "cv2.waitKey()\n",
    "kernel_sharpening=np.array([[-1,-1,-1,-1,-1],\n",
    "                            [-1,-1,-1,-1,-1],\n",
    "                            [-1,-1,25,-1,-1],\n",
    "                            [-1,-1,-1,-1,-1],\n",
    "                            [-1,-1,-1,-1,-1]])\n",
    "sharpened=cv2.filter2D(img,-1,kernel_sharpening)#-1 is the desired depth of output image.\n",
    "cv2.imshow(\"sharpened\",sharpened)\n",
    "cv2.waitKey()\n",
    "cv2.destroyAllWindows() "
   ]
  },
  {
   "cell_type": "code",
   "execution_count": null,
   "metadata": {},
   "outputs": [],
   "source": [
    "import cv2\n",
    "import numpy as np\n",
    "cap = cv2.VideoCapture(0)\n",
    "while True:\n",
    "    ret, frame = cap.read()#frame returns a value it is stored in ret\n",
    "    cv2.imshow('Our Live Sketch', frame)\n",
    "    cv2.waitKey()\n",
    "    kernel_sharpening=np.array([[-1,-1,-1,-1,-1],\n",
    "                                [-1,-1,-1,-1,-1],\n",
    "                                [-1,-1,25,-1,-1],\n",
    "                                [-1,-1,-1,-1,-1],\n",
    "                                [-1,-1,-1,-1,-1]])\n",
    "    sharpened=cv2.filter2D(frame,-1,kernel_sharpening)#-1 is the desired depth of output image.\n",
    "    cv2.imshow(\"sharpened\",sharpened)\n",
    "    cv2.waitKey()\n",
    "    cv2.destroyAllWindows() \n",
    "    if cv2.waitKey()==13:\n",
    "        break\n",
    "cap.release()\n",
    "cv2.destroyAllWindows()"
   ]
  },
  {
   "cell_type": "code",
   "execution_count": null,
   "metadata": {},
   "outputs": [],
   "source": []
  },
  {
   "cell_type": "code",
   "execution_count": null,
   "metadata": {},
   "outputs": [],
   "source": []
  }
 ],
 "metadata": {
  "kernelspec": {
   "display_name": "Python 3",
   "language": "python",
   "name": "python3"
  },
  "language_info": {
   "codemirror_mode": {
    "name": "ipython",
    "version": 3
   },
   "file_extension": ".py",
   "mimetype": "text/x-python",
   "name": "python",
   "nbconvert_exporter": "python",
   "pygments_lexer": "ipython3",
   "version": "3.7.6"
  }
 },
 "nbformat": 4,
 "nbformat_minor": 4
}
