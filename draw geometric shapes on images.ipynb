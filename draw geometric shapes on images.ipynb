{
 "cells": [
  {
   "cell_type": "code",
   "execution_count": 14,
   "metadata": {},
   "outputs": [],
   "source": [
    "import numpy as np\n",
    "import cv2\n",
    "img = cv2.imread(r'C:\\Users\\DELL\\Documents\\opencv-master\\copyimg.jpg', 1)\n",
    "#img = np.zeros([512, 512, 3], np.uint8)\n",
    "\n",
    "img = cv2.line(img, (0,0), (255,255), (147, 96, 44), 10) # 44, 96, 147\n",
    "img = cv2.arrowedLine(img, (0,255), (255,255), (255, 0, 0), 10)\n",
    "\n",
    "img = cv2.rectangle(img, (384, 0), (510, 128), (0, 0, 255), 10)\n",
    "img = cv2.circle(img, (447, 63), 63, (0, 255, 0), -1)\n",
    "font = cv2.FONT_HERSHEY_SIMPLEX\n",
    "img = cv2.putText(img, 'OpenCv', (10, 500), font, 3, (0, 255, 255), 10, cv2.LINE_AA)\n",
    "#img = cv2.ellipse(img,(256,256),(100,50),0,0,180,255,-1)\n",
    "\n",
    "#pts = np.array([[10,5],[20,30],[70,20],[50,10]], np.int32)\n",
    "#pts = pts.reshape((-1,1,2))\n",
    "#img = cv2.polylines(img,[pts],True,(0,255,255))\n",
    "cv2.imshow('image', img)\n",
    "\n",
    "cv2.waitKey(0)\n",
    "cv2.destroyAllWindows() "
   ]
  },
  {
   "cell_type": "code",
   "execution_count": 11,
   "metadata": {},
   "outputs": [],
   "source": [
    " "
   ]
  },
  {
   "cell_type": "code",
   "execution_count": null,
   "metadata": {},
   "outputs": [],
   "source": []
  },
  {
   "cell_type": "code",
   "execution_count": null,
   "metadata": {},
   "outputs": [],
   "source": []
  }
 ],
 "metadata": {
  "kernelspec": {
   "display_name": "Python 3",
   "language": "python",
   "name": "python3"
  },
  "language_info": {
   "codemirror_mode": {
    "name": "ipython",
    "version": 3
   },
   "file_extension": ".py",
   "mimetype": "text/x-python",
   "name": "python",
   "nbconvert_exporter": "python",
   "pygments_lexer": "ipython3",
   "version": "3.7.6"
  }
 },
 "nbformat": 4,
 "nbformat_minor": 4
}
